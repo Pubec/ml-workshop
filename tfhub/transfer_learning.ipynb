{
 "cells": [
  {
   "cell_type": "markdown",
   "metadata": {
    "id": "TaM8BVxrCA2E"
   },
   "source": [
    "## Setup"
   ]
  },
  {
   "cell_type": "code",
   "execution_count": null,
   "metadata": {
    "execution": {
     "iopub.execute_input": "2024-03-10T11:57:39.454651Z",
     "iopub.status.busy": "2024-03-10T11:57:39.454207Z",
     "iopub.status.idle": "2024-03-10T11:57:42.720122Z",
     "shell.execute_reply": "2024-03-10T11:57:42.719094Z"
    },
    "id": "v-KXRY5XBu2u"
   },
   "outputs": [],
   "source": [
    "import functools\n",
    "import os\n",
    "\n",
    "from matplotlib import gridspec\n",
    "import matplotlib.pylab as plt\n",
    "import numpy as np\n",
    "import tensorflow as tf\n",
    "import tensorflow_hub as hub\n",
    "\n",
    "print(\"TF Version: \", tf.__version__)\n",
    "print(\"TF Hub version: \", hub.__version__)\n",
    "print(\"Eager mode enabled: \", tf.executing_eagerly())\n",
    "print(\"GPU available: \", tf.config.list_physical_devices('GPU'))"
   ]
  },
  {
   "cell_type": "code",
   "execution_count": null,
   "metadata": {
    "execution": {
     "iopub.execute_input": "2024-03-10T11:57:42.765240Z",
     "iopub.status.busy": "2024-03-10T11:57:42.764316Z",
     "iopub.status.idle": "2024-03-10T11:57:42.775727Z",
     "shell.execute_reply": "2024-03-10T11:57:42.775059Z"
    },
    "id": "tsoDv_9geoZn"
   },
   "outputs": [],
   "source": [
    "def crop_center(image):\n",
    "    \"\"\"Returns a cropped square image.\"\"\"\n",
    "    shape = image.shape\n",
    "    new_shape = min(shape[1], shape[2])\n",
    "    offset_y = max(shape[1] - shape[2], 0) // 2\n",
    "    offset_x = max(shape[2] - shape[1], 0) // 2\n",
    "    image = tf.image.crop_to_bounding_box(\n",
    "        image, offset_y, offset_x, new_shape, new_shape\n",
    "    )\n",
    "    return image\n",
    "\n",
    "\n",
    "@functools.lru_cache(maxsize=None)\n",
    "def load_image(image_url, image_size=(256, 256), preserve_aspect_ratio=True):\n",
    "    \"\"\"Loads and preprocesses images.\"\"\"\n",
    "    # Cache image file locally.\n",
    "    image_path = tf.keras.utils.get_file(os.path.basename(image_url)[-128:], image_url)\n",
    "    # Load and convert to float32 numpy array, add batch dimension, and normalize to range [0, 1].\n",
    "    img = tf.io.decode_image(tf.io.read_file(image_path), channels=3, dtype=tf.float32)[\n",
    "        tf.newaxis, ...\n",
    "    ]\n",
    "    img = crop_center(img)\n",
    "    img = tf.image.resize(img, image_size, preserve_aspect_ratio=True)\n",
    "    return img\n",
    "\n",
    "\n",
    "def show_n(images, titles=(\"\",)):\n",
    "    n = len(images)\n",
    "    image_sizes = [image.shape[1] for image in images]\n",
    "    w = (image_sizes[0] * 6) // 320\n",
    "    plt.figure(figsize=(w * n, w))\n",
    "    gs = gridspec.GridSpec(1, n, width_ratios=image_sizes)\n",
    "    for i in range(n):\n",
    "        plt.subplot(gs[i])\n",
    "        plt.imshow(images[i][0], aspect=\"equal\")\n",
    "        plt.axis(\"off\")\n",
    "        plt.title(titles[i] if len(titles) > i else \"\")\n",
    "    plt.show()"
   ]
  },
  {
   "cell_type": "markdown",
   "metadata": {
    "id": "8etHh05-CJHc"
   },
   "source": [
    "Let's get as well some images to play with."
   ]
  },
  {
   "cell_type": "code",
   "execution_count": null,
   "metadata": {
    "execution": {
     "iopub.execute_input": "2024-03-10T11:57:42.779338Z",
     "iopub.status.busy": "2024-03-10T11:57:42.778753Z",
     "iopub.status.idle": "2024-03-10T11:57:43.915664Z",
     "shell.execute_reply": "2024-03-10T11:57:43.914899Z"
    },
    "id": "dRc0vat3Alzo"
   },
   "outputs": [],
   "source": [
    "content_image_url = 'https://upload.wikimedia.org/wikipedia/commons/thumb/f/fd/Golden_Gate_Bridge_from_Battery_Spencer.jpg/640px-Golden_Gate_Bridge_from_Battery_Spencer.jpg'  # @param {type:\"string\"}\n",
    "style_image_url = 'https://upload.wikimedia.org/wikipedia/commons/0/0a/The_Great_Wave_off_Kanagawa.jpg'  # @param {type:\"string\"}\n",
    "output_image_size = 384  # @param {type:\"integer\"}\n",
    "\n",
    "# The content image size can be arbitrary.\n",
    "content_img_size = (output_image_size, output_image_size)\n",
    "# The style prediction model was trained with image size 256 and it's the \n",
    "# recommended image size for the style image (though, other sizes work as \n",
    "# well but will lead to different results).\n",
    "style_img_size = (256, 256)  # Recommended to keep it at 256.\n",
    "\n",
    "content_image = load_image(content_image_url, content_img_size)\n",
    "style_image = load_image(style_image_url, style_img_size)\n",
    "style_image = tf.nn.avg_pool(style_image, ksize=[3,3], strides=[1,1], padding='SAME')\n",
    "show_n([content_image, style_image], ['Content image', 'Style image'])"
   ]
  },
  {
   "cell_type": "markdown",
   "metadata": {
    "id": "yL2Bn5ThR1nY"
   },
   "source": [
    "## Import TF Hub module"
   ]
  },
  {
   "cell_type": "code",
   "execution_count": null,
   "metadata": {
    "execution": {
     "iopub.execute_input": "2024-03-10T11:57:43.928130Z",
     "iopub.status.busy": "2024-03-10T11:57:43.927419Z",
     "iopub.status.idle": "2024-03-10T11:57:47.163657Z",
     "shell.execute_reply": "2024-03-10T11:57:47.162827Z"
    },
    "id": "467AVDSuzBPc"
   },
   "outputs": [],
   "source": [
    "hub_handle = 'https://tfhub.dev/google/magenta/arbitrary-image-stylization-v1-256/2'\n",
    "hub_module = hub.load(hub_handle)"
   ]
  },
  {
   "cell_type": "markdown",
   "metadata": {
    "id": "qEhYJno1R7rP"
   },
   "source": [
    "## Demonstrate image stylization"
   ]
  },
  {
   "cell_type": "code",
   "execution_count": null,
   "metadata": {
    "execution": {
     "iopub.execute_input": "2024-03-10T11:57:47.168596Z",
     "iopub.status.busy": "2024-03-10T11:57:47.167914Z",
     "iopub.status.idle": "2024-03-10T11:57:48.261433Z",
     "shell.execute_reply": "2024-03-10T11:57:48.260558Z"
    },
    "id": "lnAv-F3O9fLV"
   },
   "outputs": [],
   "source": [
    "outputs = hub_module(tf.constant(content_image), tf.constant(style_image))\n",
    "stylized_image = outputs[0]"
   ]
  },
  {
   "cell_type": "code",
   "execution_count": null,
   "metadata": {
    "execution": {
     "iopub.execute_input": "2024-03-10T11:57:48.266003Z",
     "iopub.status.busy": "2024-03-10T11:57:48.265184Z",
     "iopub.status.idle": "2024-03-10T11:57:48.984637Z",
     "shell.execute_reply": "2024-03-10T11:57:48.983809Z"
    },
    "id": "OEAPEdq698gs"
   },
   "outputs": [],
   "source": [
    "# Visualize input images and the generated stylized image.\n",
    "\n",
    "show_n([content_image, style_image, stylized_image], titles=['Original content image', 'Style image', 'Stylized image'])"
   ]
  },
  {
   "cell_type": "markdown",
   "metadata": {
    "id": "v-gYvjTWK-lx"
   },
   "source": [
    "## Let's try it on more images"
   ]
  },
  {
   "cell_type": "code",
   "execution_count": null,
   "metadata": {
    "execution": {
     "iopub.execute_input": "2024-03-10T11:57:49.007336Z",
     "iopub.status.busy": "2024-03-10T11:57:49.007033Z",
     "iopub.status.idle": "2024-03-10T11:57:54.783780Z",
     "shell.execute_reply": "2024-03-10T11:57:54.783024Z"
    },
    "id": "WSMaY0YBNfkK"
   },
   "outputs": [],
   "source": [
    "content_urls = dict(\n",
    "  sea_turtle='https://upload.wikimedia.org/wikipedia/commons/d/d7/Green_Sea_Turtle_grazing_seagrass.jpg',\n",
    "  tuebingen='https://upload.wikimedia.org/wikipedia/commons/0/00/Tuebingen_Neckarfront.jpg',\n",
    "  grace_hopper='https://storage.googleapis.com/download.tensorflow.org/example_images/grace_hopper.jpg',\n",
    "  )\n",
    "style_urls = dict(\n",
    "  kanagawa_great_wave='https://upload.wikimedia.org/wikipedia/commons/0/0a/The_Great_Wave_off_Kanagawa.jpg',\n",
    "  kandinsky_composition_7='https://upload.wikimedia.org/wikipedia/commons/b/b4/Vassily_Kandinsky%2C_1913_-_Composition_7.jpg',\n",
    "  hubble_pillars_of_creation='https://upload.wikimedia.org/wikipedia/commons/6/68/Pillars_of_creation_2014_HST_WFC3-UVIS_full-res_denoised.jpg',\n",
    "  van_gogh_starry_night='https://upload.wikimedia.org/wikipedia/commons/thumb/e/ea/Van_Gogh_-_Starry_Night_-_Google_Art_Project.jpg/1024px-Van_Gogh_-_Starry_Night_-_Google_Art_Project.jpg',\n",
    "  turner_nantes='https://upload.wikimedia.org/wikipedia/commons/b/b7/JMW_Turner_-_Nantes_from_the_Ile_Feydeau.jpg',\n",
    "  munch_scream='https://upload.wikimedia.org/wikipedia/commons/c/c5/Edvard_Munch%2C_1893%2C_The_Scream%2C_oil%2C_tempera_and_pastel_on_cardboard%2C_91_x_73_cm%2C_National_Gallery_of_Norway.jpg',\n",
    "  picasso_demoiselles_avignon='https://upload.wikimedia.org/wikipedia/en/4/4c/Les_Demoiselles_d%27Avignon.jpg',\n",
    "  picasso_violin='https://upload.wikimedia.org/wikipedia/en/3/3c/Pablo_Picasso%2C_1911-12%2C_Violon_%28Violin%29%2C_oil_on_canvas%2C_Kr%C3%B6ller-M%C3%BCller_Museum%2C_Otterlo%2C_Netherlands.jpg',\n",
    "  picasso_bottle_of_rum='https://upload.wikimedia.org/wikipedia/en/7/7f/Pablo_Picasso%2C_1911%2C_Still_Life_with_a_Bottle_of_Rum%2C_oil_on_canvas%2C_61.3_x_50.5_cm%2C_Metropolitan_Museum_of_Art%2C_New_York.jpg',\n",
    "  fire='https://upload.wikimedia.org/wikipedia/commons/3/36/Large_bonfire.jpg',\n",
    "  derkovits_woman_head='https://upload.wikimedia.org/wikipedia/commons/0/0d/Derkovits_Gyula_Woman_head_1922.jpg',\n",
    "  amadeo_style_life='https://upload.wikimedia.org/wikipedia/commons/8/8e/Untitled_%28Still_life%29_%281913%29_-_Amadeo_Souza-Cardoso_%281887-1918%29_%2817385824283%29.jpg',\n",
    "  derkovtis_talig='https://upload.wikimedia.org/wikipedia/commons/3/37/Derkovits_Gyula_Talig%C3%A1s_1920.jpg',\n",
    "  amadeo_cardoso='https://upload.wikimedia.org/wikipedia/commons/7/7d/Amadeo_de_Souza-Cardoso%2C_1915_-_Landscape_with_black_figure.jpg'\n",
    ")\n",
    "\n",
    "content_image_size = 384\n",
    "style_image_size = 256\n",
    "content_images = {k: load_image(v, (content_image_size, content_image_size)) for k, v in content_urls.items()}\n",
    "style_images = {k: load_image(v, (style_image_size, style_image_size)) for k, v in style_urls.items()}\n",
    "style_images = {k: tf.nn.avg_pool(style_image, ksize=[3,3], strides=[1,1], padding='SAME') for k, style_image in style_images.items()}\n"
   ]
  },
  {
   "cell_type": "code",
   "execution_count": null,
   "metadata": {
    "execution": {
     "iopub.execute_input": "2024-03-10T11:57:54.787719Z",
     "iopub.status.busy": "2024-03-10T11:57:54.787042Z",
     "iopub.status.idle": "2024-03-10T11:57:55.818095Z",
     "shell.execute_reply": "2024-03-10T11:57:55.817271Z"
    },
    "id": "dqB6aNTLNVkK"
   },
   "outputs": [],
   "source": [
    "content_name = 'sea_turtle'  # @param ['sea_turtle', 'tuebingen', 'grace_hopper']\n",
    "style_name = 'munch_scream'  # @param ['kanagawa_great_wave', 'kandinsky_composition_7', 'hubble_pillars_of_creation', 'van_gogh_starry_night', 'turner_nantes', 'munch_scream', 'picasso_demoiselles_avignon', 'picasso_violin', 'picasso_bottle_of_rum', 'fire', 'derkovits_woman_head', 'amadeo_style_life', 'derkovtis_talig', 'amadeo_cardoso']\n",
    "\n",
    "stylized_image = hub_module(tf.constant(content_images[content_name]),\n",
    "                            tf.constant(style_images[style_name]))[0]\n",
    "\n",
    "show_n([content_images[content_name], style_images[style_name], stylized_image],\n",
    "       titles=['Original content image', 'Style image', 'Stylized image'])"
   ]
  },
  {
   "cell_type": "code",
   "execution_count": null,
   "metadata": {},
   "outputs": [],
   "source": []
  }
 ],
 "metadata": {
  "accelerator": "GPU",
  "colab": {
   "collapsed_sections": [],
   "name": "tf2_arbitrary_image_stylization.ipynb",
   "toc_visible": true
  },
  "kernelspec": {
   "display_name": "Python 3",
   "name": "python3"
  },
  "language_info": {
   "codemirror_mode": {
    "name": "ipython",
    "version": 3
   },
   "file_extension": ".py",
   "mimetype": "text/x-python",
   "name": "python",
   "nbconvert_exporter": "python",
   "pygments_lexer": "ipython3",
   "version": "3.11.9"
  }
 },
 "nbformat": 4,
 "nbformat_minor": 0
}
